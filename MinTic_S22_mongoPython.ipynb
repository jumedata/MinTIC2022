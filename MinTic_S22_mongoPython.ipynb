{
  "nbformat": 4,
  "nbformat_minor": 0,
  "metadata": {
    "colab": {
      "name": "mongoPython.ipynb",
      "provenance": []
    },
    "kernelspec": {
      "name": "python3",
      "display_name": "Python 3"
    }
  },
  "cells": [
    {
      "cell_type": "markdown",
      "metadata": {
        "id": "k66gmjQfttAc"
      },
      "source": [
        "<h1>MISION TIC2022</h1>\n",
        "<h1>CICLO 1 DE FORMACIÓN: Fundamentos de Programación</h1>\n",
        "<h1>Bases de Datos NoSQL - MONGO</h1>\n",
        "\n",
        "\n",
        "[Elizabeth León G](https://dis.unal.edu.co/~eleonguz/), Universidad Nacional de Colombia\n",
        "\n",
        "------------\n",
        "Notebook con información de instalación de mongo e interacción con mongo desde python en COLAB usando libreria **pymongo**. Se usan sentencias CRUD.\n",
        "\n",
        "--------------\n",
        "------------"
      ]
    },
    {
      "cell_type": "markdown",
      "metadata": {
        "id": "xmYL5A9buY1m"
      },
      "source": [
        "## Instalación de Mongo y Pymongo"
      ]
    },
    {
      "cell_type": "markdown",
      "metadata": {
        "id": "JK52t_ivusmJ"
      },
      "source": [
        "Instalacion de Mongo e iniciar el servidor de Mongo para que este disponible para ser usado por el cliente."
      ]
    },
    {
      "cell_type": "code",
      "metadata": {
        "id": "V1HzeS2Wh9kH",
        "outputId": "2de0f10d-0fdf-4983-d1b8-83aca0274ed6",
        "colab": {
          "base_uri": "https://localhost:8080/",
          "height": 51
        }
      },
      "source": [
        "!apt-get install mongodb >log\n",
        "!service mongodb start"
      ],
      "execution_count": 108,
      "outputs": [
        {
          "output_type": "stream",
          "text": [
            " * Starting database mongodb\n",
            "   ...done.\n"
          ],
          "name": "stdout"
        }
      ]
    },
    {
      "cell_type": "markdown",
      "metadata": {
        "id": "a_1MH9SHuxY3"
      },
      "source": [
        "Instalación de Pymongo"
      ]
    },
    {
      "cell_type": "code",
      "metadata": {
        "id": "LAHRfglibklj",
        "outputId": "e78c608f-cffd-4cda-a7c8-affe72d1f346",
        "colab": {
          "base_uri": "https://localhost:8080/",
          "height": 34
        }
      },
      "source": [
        "import sys\n",
        "!{sys.executable} -m pip install pymongo"
      ],
      "execution_count": 109,
      "outputs": [
        {
          "output_type": "stream",
          "text": [
            "Requirement already satisfied: pymongo in /usr/local/lib/python3.6/dist-packages (3.11.0)\n"
          ],
          "name": "stdout"
        }
      ]
    },
    {
      "cell_type": "markdown",
      "metadata": {
        "id": "fUWfaLJcvWAX"
      },
      "source": [
        "Importar Pymongo"
      ]
    },
    {
      "cell_type": "code",
      "metadata": {
        "id": "-ltymUitbtMy"
      },
      "source": [
        "import pymongo\n",
        "from pymongo  import MongoClient"
      ],
      "execution_count": 110,
      "outputs": []
    },
    {
      "cell_type": "markdown",
      "metadata": {
        "id": "WQJ3n1mnvhLZ"
      },
      "source": [
        "## Conexión al servidor de mongo"
      ]
    },
    {
      "cell_type": "markdown",
      "metadata": {
        "id": "BC4dHqqhvxLb"
      },
      "source": [
        "Para conectarse al servidor es necesario crear una conexión con *MongoClient*, pasando la ip del servidor y el puerto. Como estamos trabajando localmente (en COLAB) se usa \"localhost\" o \"127.0.0.1\" y el puerto por defecto de mongo es 27017"
      ]
    },
    {
      "cell_type": "code",
      "metadata": {
        "id": "93lbe2XhbVPG"
      },
      "source": [
        "mongoClient =  MongoClient('127.0.0.1', port = 27017)\n",
        "#mongoClient =  MongoClient('localhost', port = 27017)"
      ],
      "execution_count": 169,
      "outputs": []
    },
    {
      "cell_type": "markdown",
      "metadata": {
        "id": "aLRp9w1WwjzC"
      },
      "source": [
        "## Selección/Creación de la base de datos"
      ]
    },
    {
      "cell_type": "markdown",
      "metadata": {
        "id": "JdUN4x2r6Swa"
      },
      "source": [
        "Listar todas las bases de datos que existen en Mongo"
      ]
    },
    {
      "cell_type": "code",
      "metadata": {
        "id": "J_Yakk89jwAB",
        "outputId": "7bf5a8a7-9bbc-4211-9ba5-2bba38bcee0b",
        "colab": {
          "base_uri": "https://localhost:8080/",
          "height": 34
        }
      },
      "source": [
        "print(mongoClient.list_database_names())"
      ],
      "execution_count": 170,
      "outputs": [
        {
          "output_type": "stream",
          "text": [
            "['admin', 'almacen', 'config', 'local']\n"
          ],
          "name": "stdout"
        }
      ]
    },
    {
      "cell_type": "markdown",
      "metadata": {
        "id": "2LZ21sX46XzK"
      },
      "source": [
        "Crear la base de datos *restaurante*"
      ]
    },
    {
      "cell_type": "code",
      "metadata": {
        "id": "kz1cXTjSbfEE",
        "outputId": "6ffa958c-d1e4-4558-ec5f-6260523fe975",
        "colab": {
          "base_uri": "https://localhost:8080/",
          "height": 34
        }
      },
      "source": [
        "miDb = mongoClient.restaurante\n",
        "miDb"
      ],
      "execution_count": 171,
      "outputs": [
        {
          "output_type": "execute_result",
          "data": {
            "text/plain": [
              "Database(MongoClient(host=['127.0.0.1:27017'], document_class=dict, tz_aware=False, connect=True), 'restaurante')"
            ]
          },
          "metadata": {
            "tags": []
          },
          "execution_count": 171
        }
      ]
    },
    {
      "cell_type": "markdown",
      "metadata": {
        "id": "r-Qogov6xKme"
      },
      "source": [
        "## Selección/Creación de colección\n"
      ]
    },
    {
      "cell_type": "markdown",
      "metadata": {
        "id": "kzfuFv9S6eAx"
      },
      "source": [
        "Crear la colección *producto* en la base de datos *restaurante*"
      ]
    },
    {
      "cell_type": "code",
      "metadata": {
        "id": "LDRDpVl7cBre",
        "outputId": "db88da51-1a36-42d0-c989-75b802af7cb1",
        "colab": {
          "base_uri": "https://localhost:8080/",
          "height": 34
        }
      },
      "source": [
        "miCol = miDb.producto\n",
        "miCol"
      ],
      "execution_count": 172,
      "outputs": [
        {
          "output_type": "execute_result",
          "data": {
            "text/plain": [
              "Collection(Database(MongoClient(host=['127.0.0.1:27017'], document_class=dict, tz_aware=False, connect=True), 'restaurante'), 'producto')"
            ]
          },
          "metadata": {
            "tags": []
          },
          "execution_count": 172
        }
      ]
    },
    {
      "cell_type": "markdown",
      "metadata": {
        "id": "njN31py1GNzk"
      },
      "source": [
        "## Interactuando con Mongo - CRUD\n"
      ]
    },
    {
      "cell_type": "markdown",
      "metadata": {
        "id": "uopWoESW6q2W"
      },
      "source": [
        "\n",
        "### Inserción de datos  - **C**reation   \n",
        "1. Insertar un documento de Producto en la colección. Creamos el documento en un diccionario, usamos los nombres de las claves entre comillas dobles."
      ]
    },
    {
      "cell_type": "code",
      "metadata": {
        "id": "zx-QpgN_lZwu"
      },
      "source": [
        "miProducto = {\n",
        "  \"_id\" : 1,\n",
        "  \"nombre\" : \"BigBurger\",\n",
        "  \"precio\" : 25000,\n",
        "  \"existencias\" : 30,\n",
        "  \"categoría\" : \"Hamburguesa\",\n",
        "  \"ingredientes\" : {\n",
        "    \"pan\" : \"arabe\",\n",
        "    \"salsa\" : [\"tomate\", \"mayonesa\"],\n",
        "    \"vegetales\" : [\"lechuga\", \"tomate\"]\n",
        "  }\n",
        "}"
      ],
      "execution_count": 173,
      "outputs": []
    },
    {
      "cell_type": "markdown",
      "metadata": {
        "id": "W-GbinbT7WQ1"
      },
      "source": [
        "2. Insertamos el documento (diccionario) en la colección, e imprimimos el id del documento insertado."
      ]
    },
    {
      "cell_type": "code",
      "metadata": {
        "id": "hZ-5Mr_WdWry",
        "outputId": "56f9542b-691b-4dda-a229-dae8e837b232",
        "colab": {
          "base_uri": "https://localhost:8080/",
          "height": 34
        }
      },
      "source": [
        "x = miCol.insert_one(miProducto)\n",
        "print(x.inserted_id)"
      ],
      "execution_count": 174,
      "outputs": [
        {
          "output_type": "stream",
          "text": [
            "1\n"
          ],
          "name": "stdout"
        }
      ]
    },
    {
      "cell_type": "markdown",
      "metadata": {
        "id": "S9v9upPl7h4x"
      },
      "source": [
        "3. Podemos ver las colecciones que existen en la base de datos:"
      ]
    },
    {
      "cell_type": "code",
      "metadata": {
        "id": "gIDYUtzvkCJj",
        "outputId": "a13f44c0-5c03-4ed1-b139-1788b0eaa2f2",
        "colab": {
          "base_uri": "https://localhost:8080/",
          "height": 34
        }
      },
      "source": [
        "print(miDb.list_collection_names())"
      ],
      "execution_count": 175,
      "outputs": [
        {
          "output_type": "stream",
          "text": [
            "['producto']\n"
          ],
          "name": "stdout"
        }
      ]
    },
    {
      "cell_type": "markdown",
      "metadata": {
        "id": "k30afSqt7qcK"
      },
      "source": [
        "4. Insertamos dos documentos más en la colección:"
      ]
    },
    {
      "cell_type": "code",
      "metadata": {
        "id": "7PcHgQ5HlnaD"
      },
      "source": [
        "miProducto = {\n",
        "  \"_id\" : 2,\n",
        "  \"nombre\" : \"Malteada Rosa\",\n",
        "  \"precio\" : 15000,\n",
        "  \"existencias\" : 50,\n",
        "  \"categoría\" : \"Bebida\",\n",
        "  \"ingredientes\" : {\n",
        "    \"helado\" : \"fresa\",\n",
        "    \"fruta\" : \"fresa\"\n",
        "  }\n",
        "}\n",
        "x = miCol.insert_one(miProducto)\n",
        "print(x.inserted_id)"
      ],
      "execution_count": 176,
      "outputs": []
    },
    {
      "cell_type": "code",
      "metadata": {
        "id": "U3E731hTmesG"
      },
      "source": [
        "miProducto = {\"_id\" : 3,\n",
        "  \"nombre\" : \"Casera\",\n",
        "  \"precio\" : 20000,\n",
        "  \"existencias\" : 45,\n",
        "  \"categoría\" : \"Hamburguesa\",\n",
        "  \"ingredientes\" : {\n",
        "    \"pan\" : \"con ajonjolí\",\n",
        "    \"salsa\" : [\"tomate\", \"mayonesa\", \"mostaza\"],\n",
        "    \"vegetales\" : [\"lechuga\", \"tomate\", \"cebolla\"]\n",
        "  }\n",
        "}\n",
        "x = miCol.insert_one(miProducto)\n",
        "print(x.inserted_id)"
      ],
      "execution_count": 178,
      "outputs": []
    },
    {
      "cell_type": "markdown",
      "metadata": {
        "id": "xqYZ0b5S7xll"
      },
      "source": [
        "5. Se pueden insertar varios documentos al mismo tiempo. Para esto se debe crear una lista de diccionarios, y se insert en la colección con el comando *insert_many* de Pymongo"
      ]
    },
    {
      "cell_type": "code",
      "metadata": {
        "id": "TFRDvDISlNu2",
        "outputId": "7a59b5f1-cc2e-4102-a776-6d941dfdcd4d",
        "colab": {
          "base_uri": "https://localhost:8080/",
          "height": 34
        }
      },
      "source": [
        "miLista = [\n",
        "  { \"_id\": 4,  \"nombre\": \"Malteada de Maracuya\", \"precio\" : 15000, \"existencias\" : 50, \"categoría\" : \"Bebida\", \"ingredientes\" : { \"helado\" : \"maracuya\"} },\n",
        "  { \"_id\": 5,  \"nombre\": \"Limonada Natural\", \"precio\" : 5000,\"existencias\" : 20, \"categoría\" : \"Bebida\", \"ingredientes\" : { \"fruta\" : \"limón\"} },\n",
        "  { \"_id\": 6,  \"nombre\": \"Criolla\", \"precio\" : 35000,\"existencias\" : 10, \"categoría\" : \"Hamburguesa\", \"ingredientes\" : { \"pan\" : \"común\", \"salsa\" : [\"tomate\", \"mayonesa\", \"mostaza\"],\"vegetales\" : [\"lechuga\", \"tomate\", \"cebolla\"]}}\n",
        "]\n",
        "\n",
        "x = miCol.insert_many(miLista)\n",
        "print(x.inserted_ids)"
      ],
      "execution_count": 180,
      "outputs": [
        {
          "output_type": "stream",
          "text": [
            "[4, 5, 6]\n"
          ],
          "name": "stdout"
        }
      ]
    },
    {
      "cell_type": "markdown",
      "metadata": {
        "id": "LYD5rBL5_GbE"
      },
      "source": [
        "### ***Ejercicio***\n",
        "Insertar dos documentos más. Tener cuidado en asignar valores diferentes para los identificadores (_id). Deben ser únicos para cada producto."
      ]
    },
    {
      "cell_type": "markdown",
      "metadata": {
        "id": "AJZVBpb_qBwU"
      },
      "source": [
        "### Lectura de datos - Búsqueda - **R**ead\n",
        "\n",
        "1. Encuentra el primer producto en la colección con *find_one*:"
      ]
    },
    {
      "cell_type": "code",
      "metadata": {
        "id": "txzsUtgppyMk",
        "outputId": "7710c595-6570-451d-ce11-69581edf2910",
        "colab": {
          "base_uri": "https://localhost:8080/",
          "height": 54
        }
      },
      "source": [
        "x = miCol.find_one()\n",
        "\n",
        "print(x)"
      ],
      "execution_count": 181,
      "outputs": [
        {
          "output_type": "stream",
          "text": [
            "{'_id': 1, 'nombre': 'BigBurger', 'precio': 25000, 'existencias': 30, 'categoría': 'Hamburguesa', 'ingredientes': {'pan': 'arabe', 'salsa': ['tomate', 'mayonesa'], 'vegetales': ['lechuga', 'tomate']}}\n"
          ],
          "name": "stdout"
        }
      ]
    },
    {
      "cell_type": "markdown",
      "metadata": {
        "id": "ZUH1DK5--qfI"
      },
      "source": [
        "2. Usando *find* encuentra todos los documentos en la colección. Para visualizarlos se extrae documento por documento del resultado de la lectura (se usa un for)"
      ]
    },
    {
      "cell_type": "code",
      "metadata": {
        "id": "nAt99Vz1qO3-",
        "outputId": "ee84b8b7-c5ea-453d-b65b-6324cf8dd6d6",
        "colab": {
          "base_uri": "https://localhost:8080/",
          "height": 139
        }
      },
      "source": [
        "for x in miCol.find():\n",
        "  print(x)"
      ],
      "execution_count": 182,
      "outputs": [
        {
          "output_type": "stream",
          "text": [
            "{'_id': 1, 'nombre': 'BigBurger', 'precio': 25000, 'existencias': 30, 'categoría': 'Hamburguesa', 'ingredientes': {'pan': 'arabe', 'salsa': ['tomate', 'mayonesa'], 'vegetales': ['lechuga', 'tomate']}}\n",
            "{'_id': 2, 'nombre': 'Malteada Rosa', 'precio': 15000, 'existencias': 50, 'categoría': 'Bebida', 'ingredientes': {'helado': 'fresa', 'fruta': 'fresa'}}\n",
            "{'_id': 3, 'nombre': 'CaseraH', 'precio': 20000, 'existencias': 45, 'categoría': 'Hamburguesa', 'ingredientes': {'pan': 'con ajonjolí', 'salsa': ['tomate', 'mayonesa', 'mostaza'], 'vegetales': ['lechuga', 'tomate', 'cebolla']}}\n",
            "{'_id': 4, 'nombre': 'Malteada de Maracuya', 'precio': 15000, 'existencias': 50, 'categoría': 'Bebida', 'ingredientes': {'helado': 'maracuya'}}\n",
            "{'_id': 5, 'nombre': 'Limonada Natural', 'precio': 5000, 'existencias': 20, 'categoría': 'Bebida', 'ingredientes': {'fruta': 'limón'}}\n",
            "{'_id': 6, 'nombre': 'Criolla', 'precio': 35000, 'existencias': 10, 'categoría': 'Hamburguesa', 'ingredientes': {'pan': 'común', 'salsa': ['tomate', 'mayonesa', 'mostaza'], 'vegetales': ['lechuga', 'tomate', 'cebolla']}}\n"
          ],
          "name": "stdout"
        }
      ]
    },
    {
      "cell_type": "markdown",
      "metadata": {
        "id": "XsAvAVWIqj8u"
      },
      "source": [
        "3. El método find(), puede ser usado para retornar solo algunos atributos. Para ello en el segundo parámetro se especifica que campos se desean devolver, con 1 se devuelve. El siguiente ejemplo devuelve el nombre de todos los productos:"
      ]
    },
    {
      "cell_type": "code",
      "metadata": {
        "id": "wa4h3jyXAXEy",
        "outputId": "ca8784dc-641a-495c-c905-691169c952bb",
        "colab": {
          "base_uri": "https://localhost:8080/",
          "height": 119
        }
      },
      "source": [
        "for x in miCol.find({},{ \"nombre\": 1 }):\n",
        "  print(x)"
      ],
      "execution_count": 183,
      "outputs": [
        {
          "output_type": "stream",
          "text": [
            "{'_id': 1, 'nombre': 'BigBurger'}\n",
            "{'_id': 2, 'nombre': 'Malteada Rosa'}\n",
            "{'_id': 3, 'nombre': 'CaseraH'}\n",
            "{'_id': 4, 'nombre': 'Malteada de Maracuya'}\n",
            "{'_id': 5, 'nombre': 'Limonada Natural'}\n",
            "{'_id': 6, 'nombre': 'Criolla'}\n"
          ],
          "name": "stdout"
        }
      ]
    },
    {
      "cell_type": "markdown",
      "metadata": {
        "id": "3bkSL-sN_4wA"
      },
      "source": [
        "4. Para consultar documentos que contengan una condición especial \"clave:valor\", se usa el método find() y en el primer parametro se coloca la condición de la consulta:"
      ]
    },
    {
      "cell_type": "code",
      "metadata": {
        "id": "v3WnqFi0BeA4",
        "outputId": "ecbfe0d2-3b09-4a6b-8778-87e46fbd96e9",
        "colab": {
          "base_uri": "https://localhost:8080/",
          "height": 34
        }
      },
      "source": [
        "miConsulta = { \"nombre\" : \"Malteada Rosa\" }\n",
        "miDoc = miCol.find(miConsulta)\n",
        "\n",
        "for x in miDoc:\n",
        "  print(x)"
      ],
      "execution_count": 184,
      "outputs": [
        {
          "output_type": "stream",
          "text": [
            "{'_id': 2, 'nombre': 'Malteada Rosa', 'precio': 15000, 'existencias': 50, 'categoría': 'Bebida', 'ingredientes': {'helado': 'fresa', 'fruta': 'fresa'}}\n"
          ],
          "name": "stdout"
        }
      ]
    },
    {
      "cell_type": "markdown",
      "metadata": {
        "id": "K7sllJa6CMW7"
      },
      "source": [
        "5. La siguiente consulta tiene criterio de búsqueda y retorna solo dos de los campos"
      ]
    },
    {
      "cell_type": "code",
      "metadata": {
        "id": "wljZTEzaB_Lr",
        "outputId": "2c8fac24-6946-4a12-e520-79ef7f3266c1",
        "colab": {
          "base_uri": "https://localhost:8080/",
          "height": 34
        }
      },
      "source": [
        "miConsulta = { \"nombre\" : \"Malteada Rosa\" }\n",
        "miDoc = miCol.find(miConsulta,{\"nombre\" : 1, \"precio\": 1})\n",
        "\n",
        "for x in miDoc:\n",
        "  print(x)"
      ],
      "execution_count": 185,
      "outputs": [
        {
          "output_type": "stream",
          "text": [
            "{'_id': 2, 'nombre': 'Malteada Rosa', 'precio': 15000}\n"
          ],
          "name": "stdout"
        }
      ]
    },
    {
      "cell_type": "markdown",
      "metadata": {
        "id": "W9L_FiuFC7t3"
      },
      "source": [
        "6. Buscar documentos con condiciones AND (precio = 20000 Y (AND) categoría = \"Hamburguesa\")"
      ]
    },
    {
      "cell_type": "code",
      "metadata": {
        "id": "n2a4hOTFCpVd",
        "outputId": "ef49afe4-2cc1-416c-9a52-2e373faf3991",
        "colab": {
          "base_uri": "https://localhost:8080/",
          "height": 34
        }
      },
      "source": [
        "miConsulta = { \"precio\" : 20000, \"categoría\":\"Hamburguesa\" }\n",
        "miDoc = miCol.find(miConsulta,{\"nombre\" : 1, \"precio\": 1})\n",
        "\n",
        "for x in miDoc:\n",
        "  print(x)"
      ],
      "execution_count": 186,
      "outputs": [
        {
          "output_type": "stream",
          "text": [
            "{'_id': 3, 'nombre': 'CaseraH', 'precio': 20000}\n"
          ],
          "name": "stdout"
        }
      ]
    },
    {
      "cell_type": "markdown",
      "metadata": {
        "id": "bzJG6taNCl-H"
      },
      "source": [
        "7. Buscar documentos con documentos embebidos. Buscar los productos que tienen lechuga en sus ingredientes vegetales."
      ]
    },
    {
      "cell_type": "code",
      "metadata": {
        "id": "KNKTUThhD8Az",
        "outputId": "1d197f85-ca73-466d-95a4-da21e88bfa91",
        "colab": {
          "base_uri": "https://localhost:8080/",
          "height": 88
        }
      },
      "source": [
        "miConsulta = { \"ingredientes.vegetales\" : \"lechuga\" }\n",
        "miDoc = miCol.find(miConsulta)\n",
        "\n",
        "for x in miDoc:\n",
        "  print(x)"
      ],
      "execution_count": 187,
      "outputs": [
        {
          "output_type": "stream",
          "text": [
            "{'_id': 1, 'nombre': 'BigBurger', 'precio': 25000, 'existencias': 30, 'categoría': 'Hamburguesa', 'ingredientes': {'pan': 'arabe', 'salsa': ['tomate', 'mayonesa'], 'vegetales': ['lechuga', 'tomate']}}\n",
            "{'_id': 3, 'nombre': 'CaseraH', 'precio': 20000, 'existencias': 45, 'categoría': 'Hamburguesa', 'ingredientes': {'pan': 'con ajonjolí', 'salsa': ['tomate', 'mayonesa', 'mostaza'], 'vegetales': ['lechuga', 'tomate', 'cebolla']}}\n",
            "{'_id': 6, 'nombre': 'Criolla', 'precio': 35000, 'existencias': 10, 'categoría': 'Hamburguesa', 'ingredientes': {'pan': 'común', 'salsa': ['tomate', 'mayonesa', 'mostaza'], 'vegetales': ['lechuga', 'tomate', 'cebolla']}}\n"
          ],
          "name": "stdout"
        }
      ]
    },
    {
      "cell_type": "markdown",
      "metadata": {
        "id": "BNAp7DqxEMt8"
      },
      "source": [
        "8. Buscar documentos que contengan alguno de los valores en una lista"
      ]
    },
    {
      "cell_type": "code",
      "metadata": {
        "id": "5w-CAReOET_F",
        "outputId": "bd3d5452-bbd6-4bf3-d3dd-c963f57493ea",
        "colab": {
          "base_uri": "https://localhost:8080/",
          "height": 68
        }
      },
      "source": [
        "miConsulta = { \"ingredientes.salsa\" : {\"$in\" : [\"tomate\", \"mostaza\"] }}\n",
        "miDoc = miCol.find(miConsulta, {\"nombre\" : 1, \"precio\": 1, \"ingredientes.salsa\": 1})\n",
        "\n",
        "for x in miDoc:\n",
        "  print(x)"
      ],
      "execution_count": 188,
      "outputs": [
        {
          "output_type": "stream",
          "text": [
            "{'_id': 1, 'nombre': 'BigBurger', 'precio': 25000, 'ingredientes': {'salsa': ['tomate', 'mayonesa']}}\n",
            "{'_id': 3, 'nombre': 'CaseraH', 'precio': 20000, 'ingredientes': {'salsa': ['tomate', 'mayonesa', 'mostaza']}}\n",
            "{'_id': 6, 'nombre': 'Criolla', 'precio': 35000, 'ingredientes': {'salsa': ['tomate', 'mayonesa', 'mostaza']}}\n"
          ],
          "name": "stdout"
        }
      ]
    },
    {
      "cell_type": "markdown",
      "metadata": {
        "id": "LwE7djZOETB8"
      },
      "source": [
        "### ***Ejercicio***\n",
        "Realizar las siguientes consultas:\n",
        "\n",
        "  1. Recuperar el precio del producto llamado \"BigBurger\". Solo el precio.\n",
        "  2. Recuperar las Hamburguesas de precio mayor a $25000\n",
        "  3. Recuperar las malteadas que tengan fresa\n",
        "  4. Recuperar las hamburguesas que no tengan cebolla\n",
        "  5. Definir dos consultas interesantes y realizarlas"
      ]
    },
    {
      "cell_type": "markdown",
      "metadata": {
        "id": "rsDLy8pNHbQ1"
      },
      "source": [
        "### Actualización de datos - **U**pdate"
      ]
    },
    {
      "cell_type": "markdown",
      "metadata": {
        "id": "fiufPFGJIt4B"
      },
      "source": [
        "1. Para actualizar un documento se usa el método *update_one()*. El primer parámetro de *update_one()* es la condición del documento que se va a modificar, y el segundo parámetro es la pareja clave : valor que se modifica.\n",
        "\n",
        "Las siguientes instrucciones modifican el precio del producto llamado \"BigBurger\" (el precio cambia a 35000)"
      ]
    },
    {
      "cell_type": "code",
      "metadata": {
        "id": "r04fx0e-ItGN",
        "outputId": "dfaf299c-f107-4778-eb70-2b7e2e39869e",
        "colab": {
          "base_uri": "https://localhost:8080/",
          "height": 139
        }
      },
      "source": [
        "miCondicion = { \"nombre\": \"BigBurger\" }\n",
        "nuevoValor = { \"$set\": { \"precio\": 35000} }\n",
        "\n",
        "miCol.update_one(miCondicion, nuevoValor)\n",
        "\n",
        "#imprimir los productos despues de modificar\n",
        "for x in miCol.find():\n",
        "  print(x)"
      ],
      "execution_count": 189,
      "outputs": [
        {
          "output_type": "stream",
          "text": [
            "{'_id': 1, 'nombre': 'BigBurger', 'precio': 35000, 'existencias': 30, 'categoría': 'Hamburguesa', 'ingredientes': {'pan': 'arabe', 'salsa': ['tomate', 'mayonesa'], 'vegetales': ['lechuga', 'tomate']}}\n",
            "{'_id': 2, 'nombre': 'Malteada Rosa', 'precio': 15000, 'existencias': 50, 'categoría': 'Bebida', 'ingredientes': {'helado': 'fresa', 'fruta': 'fresa'}}\n",
            "{'_id': 3, 'nombre': 'CaseraH', 'precio': 20000, 'existencias': 45, 'categoría': 'Hamburguesa', 'ingredientes': {'pan': 'con ajonjolí', 'salsa': ['tomate', 'mayonesa', 'mostaza'], 'vegetales': ['lechuga', 'tomate', 'cebolla']}}\n",
            "{'_id': 4, 'nombre': 'Malteada de Maracuya', 'precio': 15000, 'existencias': 50, 'categoría': 'Bebida', 'ingredientes': {'helado': 'maracuya'}}\n",
            "{'_id': 5, 'nombre': 'Limonada Natural', 'precio': 5000, 'existencias': 20, 'categoría': 'Bebida', 'ingredientes': {'fruta': 'limón'}}\n",
            "{'_id': 6, 'nombre': 'Criolla', 'precio': 35000, 'existencias': 10, 'categoría': 'Hamburguesa', 'ingredientes': {'pan': 'común', 'salsa': ['tomate', 'mayonesa', 'mostaza'], 'vegetales': ['lechuga', 'tomate', 'cebolla']}}\n"
          ],
          "name": "stdout"
        }
      ]
    },
    {
      "cell_type": "markdown",
      "metadata": {
        "id": "b-uxW0WCK1rx"
      },
      "source": [
        "2. Para modificar varios documentos al mismo tiempo, se usa *update_many()*. A continuación, se actualiza la categoría de los productos que el nombre inicie con la letra \"M\"."
      ]
    },
    {
      "cell_type": "code",
      "metadata": {
        "id": "AR5jA_KVK8pZ",
        "outputId": "8314bc84-7725-4b2b-e979-534a5d9764ad",
        "colab": {
          "base_uri": "https://localhost:8080/",
          "height": 139
        }
      },
      "source": [
        "miCondicion = { \"nombre\": { \"$regex\": \"^M\" } }\n",
        "nuevoValor = { \"$set\": { \"categoría\": \"Malteada\" } }\n",
        "\n",
        "x = miCol.update_many(miCondicion, nuevoValor)\n",
        "\n",
        "#imprimir los productos despues de modificar\n",
        "for x in miCol.find():\n",
        "  print(x)"
      ],
      "execution_count": 190,
      "outputs": [
        {
          "output_type": "stream",
          "text": [
            "{'_id': 1, 'nombre': 'BigBurger', 'precio': 35000, 'existencias': 30, 'categoría': 'Hamburguesa', 'ingredientes': {'pan': 'arabe', 'salsa': ['tomate', 'mayonesa'], 'vegetales': ['lechuga', 'tomate']}}\n",
            "{'_id': 2, 'nombre': 'Malteada Rosa', 'precio': 15000, 'existencias': 50, 'categoría': 'Malteada', 'ingredientes': {'helado': 'fresa', 'fruta': 'fresa'}}\n",
            "{'_id': 3, 'nombre': 'CaseraH', 'precio': 20000, 'existencias': 45, 'categoría': 'Hamburguesa', 'ingredientes': {'pan': 'con ajonjolí', 'salsa': ['tomate', 'mayonesa', 'mostaza'], 'vegetales': ['lechuga', 'tomate', 'cebolla']}}\n",
            "{'_id': 4, 'nombre': 'Malteada de Maracuya', 'precio': 15000, 'existencias': 50, 'categoría': 'Malteada', 'ingredientes': {'helado': 'maracuya'}}\n",
            "{'_id': 5, 'nombre': 'Limonada Natural', 'precio': 5000, 'existencias': 20, 'categoría': 'Bebida', 'ingredientes': {'fruta': 'limón'}}\n",
            "{'_id': 6, 'nombre': 'Criolla', 'precio': 35000, 'existencias': 10, 'categoría': 'Hamburguesa', 'ingredientes': {'pan': 'común', 'salsa': ['tomate', 'mayonesa', 'mostaza'], 'vegetales': ['lechuga', 'tomate', 'cebolla']}}\n"
          ],
          "name": "stdout"
        }
      ]
    },
    {
      "cell_type": "markdown",
      "metadata": {
        "id": "RyV2p2PmNzhz"
      },
      "source": [
        "3. Incrementa el precio en $8000 a las hamburguesas:"
      ]
    },
    {
      "cell_type": "code",
      "metadata": {
        "id": "--I6qE7FM9-d",
        "outputId": "78a8eedd-2eac-4e6e-da00-380d0ea47996",
        "colab": {
          "base_uri": "https://localhost:8080/",
          "height": 88
        }
      },
      "source": [
        "miCol.update_many({\"categoría\":\"Hamburguesa\"},{\"$inc\":{\"precio\":8000}})\n",
        "#imprimir los productos despues de modificar\n",
        "for x in miCol.find():\n",
        "  print(x)"
      ],
      "execution_count": 197,
      "outputs": [
        {
          "output_type": "stream",
          "text": [
            "{'_id': 3, 'nombre': 'CaseraH', 'precio': 36000, 'existencias': 45, 'categoría': 'Hamburguesa', 'ingredientes': {'pan': 'con ajonjolí', 'salsa': ['tomate', 'mayonesa', 'mostaza'], 'vegetales': ['lechuga', 'tomate', 'cebolla']}}\n",
            "{'_id': 5, 'nombre': 'Limonada Natural', 'precio': 5000, 'existencias': 20, 'categoría': 'Bebida', 'ingredientes': {'fruta': 'limón'}}\n",
            "{'_id': 6, 'nombre': 'Criolla', 'precio': 51000, 'existencias': 10, 'categoría': 'Hamburguesa', 'ingredientes': {'pan': 'común', 'salsa': ['tomate', 'mayonesa'], 'vegetales': ['lechuga', 'tomate', 'cebolla']}}\n"
          ],
          "name": "stdout"
        }
      ]
    },
    {
      "cell_type": "markdown",
      "metadata": {
        "id": "8_cwLQ47Rb-w"
      },
      "source": [
        "4. El comando *$pull* remueve un elemento de una lista. A continuación se remueve la salsa de tomate del producto con _id = 6"
      ]
    },
    {
      "cell_type": "code",
      "metadata": {
        "id": "uCpjtqmnRJFb",
        "outputId": "d6a51c88-5467-4dea-d562-002c43d4aa91",
        "colab": {
          "base_uri": "https://localhost:8080/",
          "height": 88
        }
      },
      "source": [
        "miCol.update_many({\"_id\":6},{\"$pull\":{\"ingredientes.salsa\":\"tomate\"}})\n",
        "for x in miCol.find():\n",
        "  print(x)"
      ],
      "execution_count": 199,
      "outputs": [
        {
          "output_type": "stream",
          "text": [
            "{'_id': 3, 'nombre': 'CaseraH', 'precio': 36000, 'existencias': 45, 'categoría': 'Hamburguesa', 'ingredientes': {'pan': 'con ajonjolí', 'salsa': ['tomate', 'mayonesa', 'mostaza'], 'vegetales': ['lechuga', 'tomate', 'cebolla']}}\n",
            "{'_id': 5, 'nombre': 'Limonada Natural', 'precio': 5000, 'existencias': 20, 'categoría': 'Bebida', 'ingredientes': {'fruta': 'limón'}}\n",
            "{'_id': 6, 'nombre': 'Criolla', 'precio': 51000, 'existencias': 10, 'categoría': 'Hamburguesa', 'ingredientes': {'pan': 'común', 'salsa': ['mayonesa'], 'vegetales': ['lechuga', 'tomate', 'cebolla']}}\n"
          ],
          "name": "stdout"
        }
      ]
    },
    {
      "cell_type": "markdown",
      "metadata": {
        "id": "k51LmrzSPq1v"
      },
      "source": [
        "### ***Ejercicio***\n",
        "Realizar las siguientes actualizaciones:\n",
        "\n",
        "  1. Aumentar el precio en 1000 a los productos que tengan helado de maracuya.\n",
        "  2. Restar en 10 las cantidades de la Malteada con _id 2.\n",
        "  3. Cambiar el ingrediente cebolla por pepinillos en todas las Hamburguesas."
      ]
    },
    {
      "cell_type": "markdown",
      "metadata": {
        "id": "oKZlQ5fgKKXd"
      },
      "source": [
        "### Borrado de datos - **D**elete"
      ]
    },
    {
      "cell_type": "markdown",
      "metadata": {
        "id": "1xsDtVGGPI2Z"
      },
      "source": [
        "1. Borra un documento:"
      ]
    },
    {
      "cell_type": "code",
      "metadata": {
        "id": "i1izG_KUKa-9",
        "outputId": "4e946f75-17db-4ac6-ae09-c4fd6ec58ef1",
        "colab": {
          "base_uri": "https://localhost:8080/",
          "height": 122
        }
      },
      "source": [
        "miCol.delete_one({\"nombre\": \"BigBurger\"})\n",
        "#imprimir los productos despues de modificar\n",
        "for x in miCol.find():\n",
        "  print(x)"
      ],
      "execution_count": 193,
      "outputs": [
        {
          "output_type": "stream",
          "text": [
            "{'_id': 2, 'nombre': 'Malteada Rosa', 'precio': 15000, 'existencias': 50, 'categoría': 'Malteada', 'ingredientes': {'helado': 'fresa', 'fruta': 'fresa'}}\n",
            "{'_id': 3, 'nombre': 'CaseraH', 'precio': 28000, 'existencias': 45, 'categoría': 'Hamburguesa', 'ingredientes': {'pan': 'con ajonjolí', 'salsa': ['tomate', 'mayonesa', 'mostaza'], 'vegetales': ['lechuga', 'tomate', 'cebolla']}}\n",
            "{'_id': 4, 'nombre': 'Malteada de Maracuya', 'precio': 15000, 'existencias': 50, 'categoría': 'Malteada', 'ingredientes': {'helado': 'maracuya'}}\n",
            "{'_id': 5, 'nombre': 'Limonada Natural', 'precio': 5000, 'existencias': 20, 'categoría': 'Bebida', 'ingredientes': {'fruta': 'limón'}}\n",
            "{'_id': 6, 'nombre': 'Criolla', 'precio': 43000, 'existencias': 10, 'categoría': 'Hamburguesa', 'ingredientes': {'pan': 'común', 'salsa': ['tomate', 'mayonesa', 'mostaza'], 'vegetales': ['lechuga', 'tomate', 'cebolla']}}\n"
          ],
          "name": "stdout"
        }
      ]
    },
    {
      "cell_type": "markdown",
      "metadata": {
        "id": "YlACU4PHPLLH"
      },
      "source": [
        "2. Borra varios documentos:"
      ]
    },
    {
      "cell_type": "code",
      "metadata": {
        "id": "2o87aNeaPQkt",
        "outputId": "2070614a-3747-4fd1-feec-07beac15f1c7",
        "colab": {
          "base_uri": "https://localhost:8080/",
          "height": 88
        }
      },
      "source": [
        "miCol.delete_many({\"categoría\": \"Malteada\"})\n",
        "#imprimir los productos despues de modificar\n",
        "for x in miCol.find():\n",
        "  print(x)"
      ],
      "execution_count": 194,
      "outputs": [
        {
          "output_type": "stream",
          "text": [
            "{'_id': 3, 'nombre': 'CaseraH', 'precio': 28000, 'existencias': 45, 'categoría': 'Hamburguesa', 'ingredientes': {'pan': 'con ajonjolí', 'salsa': ['tomate', 'mayonesa', 'mostaza'], 'vegetales': ['lechuga', 'tomate', 'cebolla']}}\n",
            "{'_id': 5, 'nombre': 'Limonada Natural', 'precio': 5000, 'existencias': 20, 'categoría': 'Bebida', 'ingredientes': {'fruta': 'limón'}}\n",
            "{'_id': 6, 'nombre': 'Criolla', 'precio': 43000, 'existencias': 10, 'categoría': 'Hamburguesa', 'ingredientes': {'pan': 'común', 'salsa': ['tomate', 'mayonesa', 'mostaza'], 'vegetales': ['lechuga', 'tomate', 'cebolla']}}\n"
          ],
          "name": "stdout"
        }
      ]
    },
    {
      "cell_type": "markdown",
      "metadata": {
        "id": "d8DhDapvSgUV"
      },
      "source": [
        "### ***Ejercicio***\n",
        "Realizar los siguientes borrados:\n",
        " \n",
        "  1. Borrar el producto con _id 3.\n",
        "  2. Borrar los productos que tengan pepinillos en los vegetales\n",
        "  3. Borrar los productos con precio menor a 20000"
      ]
    },
    {
      "cell_type": "markdown",
      "metadata": {
        "id": "fbgCIBTmN_BS"
      },
      "source": [
        "## Borrar la colección "
      ]
    },
    {
      "cell_type": "code",
      "metadata": {
        "id": "2kjbyJYIN_7E"
      },
      "source": [
        "miCol.drop()"
      ],
      "execution_count": 166,
      "outputs": []
    },
    {
      "cell_type": "markdown",
      "metadata": {
        "id": "hV7AYmivOKz6"
      },
      "source": [
        "## Cerrar la Conexión"
      ]
    },
    {
      "cell_type": "code",
      "metadata": {
        "id": "8DF3cJZQOT4A"
      },
      "source": [
        "mongoClient.close()"
      ],
      "execution_count": 168,
      "outputs": []
    },
    {
      "cell_type": "markdown",
      "metadata": {
        "id": "fFJg8PJCebEi"
      },
      "source": [
        "##### Manual de referencia:   https://docs.mongodb.com/manual/"
      ]
    }
  ]
}