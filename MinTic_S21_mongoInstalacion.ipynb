{
 "nbformat": 4,
 "nbformat_minor": 0,
 "metadata": {
  "colab": {
   "name": "MinTic_S21_mongoInstalacion.ipynb",
   "provenance": [],
   "toc_visible": true
  },
  "language_info": {
   "codemirror_mode": {
    "name": "ipython",
    "version": 3
   },
   "file_extension": ".py",
   "mimetype": "text/x-python",
   "name": "python",
   "nbconvert_exporter": "python",
   "pygments_lexer": "ipython3",
   "version": "3.5.3"
  },
  "kernelspec": {
   "display_name": "Python 3",
   "language": "python",
   "name": "python3"
  }
 },
 "cells": [
  {
   "cell_type": "markdown",
   "metadata": {
    "id": "lb6iPC1qxYNp"
   },
   "source": [
    "<h1>MISION TIC2022</h1>\n",
    "<h1>CICLO 1 DE FORMACIÓN: Fundamentos de Programación</h1>\n",
    "<h1>Bases de Datos NoSQL - MONGO - Instalación </h1>\n",
    "\n",
    "\n",
    "[Elizabeth León G](https://dis.unal.edu.co/~eleonguz/), Universidad Nacional de Colombia\n",
    "\n",
    "------------\n",
    "Notebook con información de instalación de mongo e interacción con mongo usando sentencias CRUD por consola.\n",
    "\n",
    "--------------\n"
   ]
  },
  {
   "cell_type": "markdown",
   "metadata": {
    "id": "MoIeGE_3zmRP"
   },
   "source": [
    "# MongoDB\n",
    "\n",
    "\n",
    "*   Base de datos NoSQL orientada a documentos\n",
    "*   Un registro en MongoDB es un documento, el cuál es una estructura de datos de pares campo/valor.\n",
    "*   Los documentos tienen una estructura similar a JSON\n",
    "*   Almacena una colección de documentos\n",
    "\n",
    "```\n",
    "{ \t\n",
    "  nombre : “Juan Perez\", \n",
    "  direccion : { \n",
    "\t\tcalle : “Cra 26 # 44-20\", \n",
    "\t\tciudad : “Bogotá\", bold text\n",
    "\t\tpais : “Colombia“\n",
    "  } \n",
    "} \n",
    "```"
   ]
  },
  {
   "cell_type": "markdown",
   "metadata": {
    "id": "weMk_KvNgg66"
   },
   "source": [
    "# Instalación"
   ]
  },
  {
   "cell_type": "markdown",
   "metadata": {
    "id": "xc9STWLcgPiB"
   },
   "source": [
    "## Linux\n",
    "1. Descargue MongoDB:\n",
    "https://fastdl.mongodb.org/linux/mongodb-linux-x86_64-3.2.9.tgz\n",
    "2. Descomprima y cambie al directorio creado:\n",
    "```\n",
    "$ tar xfz mongodb-linux-x86_64-3.2.9.tgz\n",
    "$ cd mongodb-linux-x86_64-3.2.9\n",
    "```\n",
    "3. Crear el directorio de datos:\n",
    "```\n",
    "$ mkdir ./data\n",
    "```\n",
    "4. Inicie el servidor de MongoDB:\n",
    "```\n",
    "$ ./bin/mongod –-dbpath ./data\n",
    "```\n",
    "5. Inicie el interprete de comandos (Mongo shell):\n",
    "```\n",
    "$ ./bin/mongo\n",
    "```"
   ]
  },
  {
   "cell_type": "markdown",
   "metadata": {
    "id": "gxwvsbAGgUsU"
   },
   "source": [
    "## Windows\n",
    "https://www.mongodb.com/download-center#community\n"
   ]
  },
  {
   "cell_type": "markdown",
   "metadata": {
    "nbpresent": {
     "id": "e1ed2818-9b6c-4e68-8356-80ece7624680"
    },
    "id": "ZnhgzrQlPzET"
   },
   "source": [
    "\n",
    "## Mac\n",
    "\n",
    "  **OPCION 1**\n",
    "  Se recomienda instalar MongoDB a través de Homebrew.\n",
    "\n",
    "1. Abrir una consola y actualizar Homebrew.\n",
    "```\n",
    "$ brew update\n",
    "```\n",
    "2. Una vez actualizado Homebrew, instalar MongoDB con el comando:\n",
    "```\n",
    "$ brew install mongodb\n",
    "``` \n",
    "Este comando instala los archivos binarios necesarios para ejecutar un servidor de MongoDB.\n",
    "3. Crear el directorio donde el servidor de MongoDB guardará los datos. Desde la consola del sistema ejecuta:\n",
    "```\n",
    "$ mkdir -p ~/data/db\n",
    "```\n",
    "4. Asignar permisos necesarios para que el servidor pueda escribir en ese directorio.\n",
    "```\n",
    "$ sudo chown -R ~/data/db\n",
    "````\n",
    "% Puede solicitar la contraseña, eso es normal ya que se usa el comando sudo.\n",
    "\n",
    "5. Abrir dos consolas, en una subir el servidor:\n",
    "```\n",
    "$ mongod --dbpath ~/data/db\n",
    "```\n",
    "y en la otra, iniciar el interprete de comandos (Mongo shell):\n",
    "```\n",
    "$ mongo\n",
    "```\n",
    " El servidor de MongoDB (**mongod**) se \"baja\" con ctrl + c y el shell de Mongo (**mongo**) se cierra con quit().\n",
    "\n",
    "\n",
    "  **OPCION 2**\n",
    "  Bajar archivo .tgz e instalar\n",
    "\n",
    "1. Bajar el tgz de https://www.mongodb.com/try/download/community\n",
    "2. Después de descargar Mongo, mover el archivo comprimido .tar (archivo con la extensión .tgz que se ha descargado) a la carpeta donde se desee instalar Mongo. Se puede mover a la carpeta de inicio, con los siguientes comandos (o usar el manejador de archivos gráfico):\n",
    "```\n",
    "cd Downloads\n",
    "mv mongodb-macos-x86_64-4.4.1.tgz ~/\n",
    "```\n",
    "3. Si se usa el manejador de archivos gráfico, dar doble click en el archivo para descomprimir. Si se esta trabajando por consola ejecutar:\n",
    "```\n",
    "cd ~/\n",
    "tar -zxvf mongodb-macos-x86_64-4.4.1.tgz\n",
    "```\n",
    "4. Cambiar el nombre del directorio por mongodb\n",
    "```\n",
    "mv mongodb-macos-x86_64-4.4.1  mongodb\n",
    "```\n",
    "5. Crear el directorio donde mongo almacenará los datos en la carpeta de inicio. Por consola:\n",
    "```\n",
    "mkdir -p ~/data/db\n",
    "```\n",
    "6. Darle permisos al directorio\n",
    "```\n",
    "sudo chown -R `id -un` ~/data/db\n",
    "```\n",
    "7. Iniciar el servicio de mongo. Para esto ejecutar *mongod* (demonio de mongo) en una terminal. Esto debería iniciar el servidor de Mongo. \n",
    "```\n",
    "~/mongodb/bin/mongod --dbpath ~/data/db\n",
    "```\n",
    "8. Para iniciar el intérprete de comandos de mongo (el shell de mongo) y empezar a usar mongo, abrir otra terminal (sin cerrar la anterior) y ejecutar el comando *mongo*. \n",
    "```\n",
    "~/mongodb/bin/mongo\n",
    "```\n",
    " El servidor de MongoDB (**mongod**) se \"baja\" con ctrl + c y el shell de Mongo (**mongo**) se cierra con quit()."
   ]
  }
 ]
}